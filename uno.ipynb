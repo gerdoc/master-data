{
  "nbformat": 4,
  "nbformat_minor": 0,
  "metadata": {
    "colab": {
      "name": "uno.ipynb",
      "provenance": [],
      "authorship_tag": "ABX9TyPyIfDIMi3XzqhlYYzx3uA+",
      "include_colab_link": true
    },
    "kernelspec": {
      "name": "python3",
      "display_name": "Python 3"
    }
  },
  "cells": [
    {
      "cell_type": "markdown",
      "metadata": {
        "id": "view-in-github",
        "colab_type": "text"
      },
      "source": [
        "<a href=\"https://colab.research.google.com/github/gerdoc/master-data/blob/main/uno.ipynb\" target=\"_parent\"><img src=\"https://colab.research.google.com/assets/colab-badge.svg\" alt=\"Open In Colab\"/></a>"
      ]
    },
    {
      "cell_type": "code",
      "metadata": {
        "colab": {
          "base_uri": "https://localhost:8080/"
        },
        "id": "-1WwM5e6ysdU",
        "outputId": "814d1b31-0a80-4c2a-cd79-0155d6609e42"
      },
      "source": [
        "print('hola')\n",
        "x = input('tu nombre')\n",
        "print(x)"
      ],
      "execution_count": 2,
      "outputs": [
        {
          "output_type": "stream",
          "text": [
            "hola\n",
            "tu nombreGerman\n",
            "German\n"
          ],
          "name": "stdout"
        }
      ]
    }
  ]
}