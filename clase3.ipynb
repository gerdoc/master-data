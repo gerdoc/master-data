{
  "nbformat": 4,
  "nbformat_minor": 0,
  "metadata": {
    "colab": {
      "name": "clase3.ipynb",
      "provenance": [],
      "authorship_tag": "ABX9TyMD1Xe5VSrxcNa+HsZjS65X",
      "include_colab_link": true
    },
    "kernelspec": {
      "name": "python3",
      "display_name": "Python 3"
    }
  },
  "cells": [
    {
      "cell_type": "markdown",
      "metadata": {
        "id": "view-in-github",
        "colab_type": "text"
      },
      "source": [
        "<a href=\"https://colab.research.google.com/github/gerdoc/master-data/blob/main/clase3.ipynb\" target=\"_parent\"><img src=\"https://colab.research.google.com/assets/colab-badge.svg\" alt=\"Open In Colab\"/></a>"
      ]
    },
    {
      "cell_type": "code",
      "metadata": {
        "colab": {
          "base_uri": "https://localhost:8080/"
        },
        "id": "8Rle4ukALy1m",
        "outputId": "d71d9d61-406d-45f1-f4f8-0f4528f1ebc9"
      },
      "source": [
        "!pip install wget"
      ],
      "execution_count": 1,
      "outputs": [
        {
          "output_type": "stream",
          "text": [
            "Collecting wget\n",
            "  Downloading https://files.pythonhosted.org/packages/47/6a/62e288da7bcda82b935ff0c6cfe542970f04e29c756b0e147251b2fb251f/wget-3.2.zip\n",
            "Building wheels for collected packages: wget\n",
            "  Building wheel for wget (setup.py) ... \u001b[?25l\u001b[?25hdone\n",
            "  Created wheel for wget: filename=wget-3.2-cp36-none-any.whl size=9682 sha256=c4bc34a9ffdb701d40ca4624a587f55a4cab180fd220ede477957511ca2685e2\n",
            "  Stored in directory: /root/.cache/pip/wheels/40/15/30/7d8f7cea2902b4db79e3fea550d7d7b85ecb27ef992b618f3f\n",
            "Successfully built wget\n",
            "Installing collected packages: wget\n",
            "Successfully installed wget-3.2\n"
          ],
          "name": "stdout"
        }
      ]
    },
    {
      "cell_type": "code",
      "metadata": {
        "id": "KUqY25ZMMakb"
      },
      "source": [
        "import wget\n",
        "import os.path\n",
        "from os import path"
      ],
      "execution_count": 6,
      "outputs": []
    },
    {
      "cell_type": "code",
      "metadata": {
        "colab": {
          "base_uri": "https://localhost:8080/"
        },
        "id": "D_cdKPRKMdIm",
        "outputId": "3810aae0-a291-4115-c738-69f510c19f0a"
      },
      "source": [
        "urls = ['https://storage.googleapis.com/campus-cvs/lectures/data-text.csv' , 'https://storage.googleapis.com/campus-cvs/lectures/data-text.csv' ]\n",
        "fileNames = [ 'data-text.csv' , 'data-text.csv' ]\n",
        "for i in range( len( urls ) ):\n",
        "  if not path.exists( fileNames[ i ] ):\n",
        "    fileName = wget.download( urls[ i ] )\n",
        "    print( f'Descarga {fileName}')\n",
        "  else:\n",
        "    print( f'Archivo {fileName} en sistema' )\n"
      ],
      "execution_count": 9,
      "outputs": [
        {
          "output_type": "stream",
          "text": [
            "Archivo data-text.csv en sistema\n",
            "Archivo data-text.csv en sistema\n"
          ],
          "name": "stdout"
        }
      ]
    }
  ]
}